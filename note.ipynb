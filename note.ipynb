{
 "cells": [
  {
   "cell_type": "code",
   "execution_count": 11,
   "metadata": {},
   "outputs": [
    {
     "name": "stdout",
     "output_type": "stream",
     "text": [
      "{'history': ['你好，肚脐周围隐隐作痛，不知道怎么回事（女，29岁）', '你好，这种情况多长时间了？', '两三天了。', '隐隐作痛，疼一会就不疼了。'], 'next_sym': [], 'response': '有没有用过什么药？做过什么检查吗。', 'id': 1, 'history_with_topic': ['腹痛:你好，肚脐周围隐隐作痛，不知道怎么回事（女，29岁）', '时长:你好，这种情况多长时间了？', ':两三天了。', ':隐隐作痛，疼一会就不疼了。']}\n"
     ]
    },
    {
     "name": "stderr",
     "output_type": "stream",
     "text": [
      "100%|██████████| 147845/147845 [00:04<00:00, 35461.87it/s]\n"
     ]
    }
   ],
   "source": [
    "import pickle\n",
    "import json\n",
    "from tqdm import tqdm\n",
    "#read data/gen_train.pkl\n",
    "with open('MedDG/data/gen_train.pk', 'rb') as f:\n",
    "    train = pickle.load(f)\n",
    "#print train structure\n",
    "    print(train[1])    \n",
    "#{'history': ['你好，肚脐周围隐隐作痛，不知道怎么回事（女，29岁）'], 'next_sym': [77], 'response': '你好，这种情况多长时间了？', 'id': 0, 'history_with_topic': ['腹痛:你好，肚脐周围隐隐作痛，不知道怎么回事（女，29岁）']}\n",
    "#generate train data for gpt-3, jsonl format\n",
    "with open('train.jsonl', 'w') as f:\n",
    "    count=0\n",
    "    #all_data=\"\"\n",
    "    #use tqdm to show progress\n",
    "    for i in tqdm(train):\n",
    "\n",
    "        tmp=\"\"\n",
    "        for j in i['history']:\n",
    "            #将history中的每个元素拼接到prompt中\n",
    "            tmp=tmp+j\n",
    "        data = {\"prompt\": tmp, \"completion\": i['response']}\n",
    "        write_data=json.dumps(data)\n",
    "        #添加换行\n",
    "        write_data=write_data+\"\\n\"\n",
    "        f.write(write_data)\n",
    "        #all_data=all_data+write_data+\"\\n\"\n",
    "        #count=count+1\n",
    "        #if count%10==0:\n",
    "            #break\n",
    "    #f.write(all_data)\n",
    "\n"
   ]
  },
  {
   "cell_type": "code",
   "execution_count": 25,
   "metadata": {},
   "outputs": [
    {
     "name": "stdout",
     "output_type": "stream",
     "text": [
      "{'prompt': '老是感觉肚子气胀，早上起来嘴苦，嘴干，口臭（男，26岁）您好，这样不舒服症状有多久了。大便好吗。吃点药又好点，反反复复两三个月了。以前大便粘稠，有点拉肚子，吃药后现在感觉正常了。吃夜宵吗。基本不吃了。吃什么药。有个冲剂，饭前喝，饭后是两盒药，好像是诺氟沙星胶囊和什么，我忘记了。就是肠炎的要。请问这严重吗？肠炎的药？为什么吃肠炎的药。口苦和着肚子不舒服有关系吗？医生说是肠胃炎。从当前您诉的症状多见于功能性消化不良引起。那您有拉肚子之类的吗。哦，对了，有事还会伴有微疼。有点的。医生，请你建议我吃些要吧！那您现在的症状有哪些。就感觉肚子，就是肚脐周围胀气，鼓鼓的，难受，屁多，放了就感觉舒服一大半。早上起床口苦，口臭。', 'completion': '您有幽门螺杆菌感染吗。'}\n"
     ]
    }
   ],
   "source": [
    "  #读取train.jsonl文件中的一行数据\n",
    "with open('train.jsonl', 'r') as f: \n",
    "    #跳过前面的行，读取后面的行 \n",
    "    for i in range(3000):\n",
    "      f.readline()\n",
    "\n",
    "    data = f.readline()\n",
    "    #data被utf8编码，需要解码\n",
    "    data = json.loads(data)\n",
    "    print(data)"
   ]
  }
 ],
 "metadata": {
  "kernelspec": {
   "display_name": "Python 3",
   "language": "python",
   "name": "python3"
  },
  "language_info": {
   "codemirror_mode": {
    "name": "ipython",
    "version": 3
   },
   "file_extension": ".py",
   "mimetype": "text/x-python",
   "name": "python",
   "nbconvert_exporter": "python",
   "pygments_lexer": "ipython3",
   "version": "3.10.4"
  },
  "orig_nbformat": 4,
  "vscode": {
   "interpreter": {
    "hash": "3ad933181bd8a04b432d3370b9dc3b0662ad032c4dfaa4e4f1596c548f763858"
   }
  }
 },
 "nbformat": 4,
 "nbformat_minor": 2
}
